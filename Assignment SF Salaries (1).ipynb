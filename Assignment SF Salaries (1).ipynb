{
 "cells": [
  {
   "cell_type": "markdown",
   "metadata": {},
   "source": [
    "<img src=\"https://lh3.googleusercontent.com/u/1/drive-viewer/AFDK6gNQ4P4weDEvkHzqlMbbJfaJTb5MVH_hnCq0L8azPFOvwM2q1t5J6O5QH5tK01rq6eBLY5i7jlmHmxmetoF8gshBXjTgIA=w1366-h638\" alt=\"Alternative text\" height=350 />"
   ]
  },
  {
   "cell_type": "markdown",
   "metadata": {
    "id": "VYfLSYsC_j3p"
   },
   "source": [
    "# Pandas Assignment\n",
    "**This Notebook is Prepared by MSP Data science Committee Leaders**"
   ]
  },
  {
   "cell_type": "markdown",
   "metadata": {},
   "source": [
    "# # Solved by Engy Abd elmalak "
   ]
  },
  {
   "cell_type": "markdown",
   "metadata": {
    "id": "0Bo2X3IQ_j3y"
   },
   "source": [
    "# SF Salaries\n",
    "\n",
    "One way to understand how a city government works is by looking at who it employs and how its employees are compensated. This data contains the names, job title, and compensation for San Francisco city employees on an annual basis from 2011 to 2014."
   ]
  },
  {
   "cell_type": "markdown",
   "metadata": {
    "id": "ZgwUjfvC_j30"
   },
   "source": [
    "## Import pandas."
   ]
  },
  {
   "cell_type": "code",
   "execution_count": 1,
   "metadata": {
    "executionInfo": {
     "elapsed": 629,
     "status": "ok",
     "timestamp": 1659714011625,
     "user": {
      "displayName": "Fouad Soliman",
      "userId": "12665213746349330856"
     },
     "user_tz": -120
    },
    "id": "BxoStxVO_j31"
   },
   "outputs": [],
   "source": [
    "import pandas as pd\n",
    "import numpy as np\n",
    "# To Avoid The silly warning messages uncomment the following line\n",
    "pd.set_option('mode.chained_assignment', None)"
   ]
  },
  {
   "cell_type": "markdown",
   "metadata": {
    "id": "qLPaa1Gn_j32"
   },
   "source": [
    "## Read Salaries.csv as a dataframe called <b><u>sal</b></u>."
   ]
  },
  {
   "cell_type": "code",
   "execution_count": 2,
   "metadata": {
    "executionInfo": {
     "elapsed": 446,
     "status": "ok",
     "timestamp": 1659714012067,
     "user": {
      "displayName": "Fouad Soliman",
      "userId": "12665213746349330856"
     },
     "user_tz": -120
    },
    "id": "gAAOzZ7f_j33"
   },
   "outputs": [
    {
     "name": "stderr",
     "output_type": "stream",
     "text": [
      "C:\\Users\\dell\\AppData\\Local\\Temp\\ipykernel_21264\\2836107011.py:2: DtypeWarning: Columns (3,4,5,6,12) have mixed types. Specify dtype option on import or set low_memory=False.\n",
      "  sal = pd.read_csv(path)\n"
     ]
    }
   ],
   "source": [
    "path = 'E:\\\\data analysis applai\\\\assignment\\\\Salaries.csv'\n",
    "sal = pd.read_csv(path)"
   ]
  },
  {
   "cell_type": "markdown",
   "metadata": {},
   "source": [
    "## Display The first 15 Row"
   ]
  },
  {
   "cell_type": "code",
   "execution_count": 3,
   "metadata": {},
   "outputs": [
    {
     "data": {
      "text/html": [
       "<div>\n",
       "<style scoped>\n",
       "    .dataframe tbody tr th:only-of-type {\n",
       "        vertical-align: middle;\n",
       "    }\n",
       "\n",
       "    .dataframe tbody tr th {\n",
       "        vertical-align: top;\n",
       "    }\n",
       "\n",
       "    .dataframe thead th {\n",
       "        text-align: right;\n",
       "    }\n",
       "</style>\n",
       "<table border=\"1\" class=\"dataframe\">\n",
       "  <thead>\n",
       "    <tr style=\"text-align: right;\">\n",
       "      <th></th>\n",
       "      <th>Id</th>\n",
       "      <th>EmployeeName</th>\n",
       "      <th>JobTitle</th>\n",
       "      <th>BasePay</th>\n",
       "      <th>OvertimePay</th>\n",
       "      <th>OtherPay</th>\n",
       "      <th>Benefits</th>\n",
       "      <th>TotalPay</th>\n",
       "      <th>TotalPayBenefits</th>\n",
       "      <th>Year</th>\n",
       "      <th>Notes</th>\n",
       "      <th>Agency</th>\n",
       "      <th>Status</th>\n",
       "    </tr>\n",
       "  </thead>\n",
       "  <tbody>\n",
       "    <tr>\n",
       "      <th>0</th>\n",
       "      <td>1</td>\n",
       "      <td>NATHANIEL FORD</td>\n",
       "      <td>GENERAL MANAGER-METROPOLITAN TRANSIT AUTHORITY</td>\n",
       "      <td>167411.18</td>\n",
       "      <td>0.0</td>\n",
       "      <td>400184.25</td>\n",
       "      <td>NaN</td>\n",
       "      <td>567595.43</td>\n",
       "      <td>567595.43</td>\n",
       "      <td>2011</td>\n",
       "      <td>NaN</td>\n",
       "      <td>San Francisco</td>\n",
       "      <td>NaN</td>\n",
       "    </tr>\n",
       "    <tr>\n",
       "      <th>1</th>\n",
       "      <td>2</td>\n",
       "      <td>GARY JIMENEZ</td>\n",
       "      <td>CAPTAIN III (POLICE DEPARTMENT)</td>\n",
       "      <td>155966.02</td>\n",
       "      <td>245131.88</td>\n",
       "      <td>137811.38</td>\n",
       "      <td>NaN</td>\n",
       "      <td>538909.28</td>\n",
       "      <td>538909.28</td>\n",
       "      <td>2011</td>\n",
       "      <td>NaN</td>\n",
       "      <td>San Francisco</td>\n",
       "      <td>NaN</td>\n",
       "    </tr>\n",
       "    <tr>\n",
       "      <th>2</th>\n",
       "      <td>3</td>\n",
       "      <td>ALBERT PARDINI</td>\n",
       "      <td>CAPTAIN III (POLICE DEPARTMENT)</td>\n",
       "      <td>212739.13</td>\n",
       "      <td>106088.18</td>\n",
       "      <td>16452.6</td>\n",
       "      <td>NaN</td>\n",
       "      <td>335279.91</td>\n",
       "      <td>335279.91</td>\n",
       "      <td>2011</td>\n",
       "      <td>NaN</td>\n",
       "      <td>San Francisco</td>\n",
       "      <td>NaN</td>\n",
       "    </tr>\n",
       "    <tr>\n",
       "      <th>3</th>\n",
       "      <td>4</td>\n",
       "      <td>CHRISTOPHER CHONG</td>\n",
       "      <td>WIRE ROPE CABLE MAINTENANCE MECHANIC</td>\n",
       "      <td>77916.0</td>\n",
       "      <td>56120.71</td>\n",
       "      <td>198306.9</td>\n",
       "      <td>NaN</td>\n",
       "      <td>332343.61</td>\n",
       "      <td>332343.61</td>\n",
       "      <td>2011</td>\n",
       "      <td>NaN</td>\n",
       "      <td>San Francisco</td>\n",
       "      <td>NaN</td>\n",
       "    </tr>\n",
       "    <tr>\n",
       "      <th>4</th>\n",
       "      <td>5</td>\n",
       "      <td>PATRICK GARDNER</td>\n",
       "      <td>DEPUTY CHIEF OF DEPARTMENT,(FIRE DEPARTMENT)</td>\n",
       "      <td>134401.6</td>\n",
       "      <td>9737.0</td>\n",
       "      <td>182234.59</td>\n",
       "      <td>NaN</td>\n",
       "      <td>326373.19</td>\n",
       "      <td>326373.19</td>\n",
       "      <td>2011</td>\n",
       "      <td>NaN</td>\n",
       "      <td>San Francisco</td>\n",
       "      <td>NaN</td>\n",
       "    </tr>\n",
       "    <tr>\n",
       "      <th>5</th>\n",
       "      <td>6</td>\n",
       "      <td>DAVID SULLIVAN</td>\n",
       "      <td>ASSISTANT DEPUTY CHIEF II</td>\n",
       "      <td>118602.0</td>\n",
       "      <td>8601.0</td>\n",
       "      <td>189082.74</td>\n",
       "      <td>NaN</td>\n",
       "      <td>316285.74</td>\n",
       "      <td>316285.74</td>\n",
       "      <td>2011</td>\n",
       "      <td>NaN</td>\n",
       "      <td>San Francisco</td>\n",
       "      <td>NaN</td>\n",
       "    </tr>\n",
       "    <tr>\n",
       "      <th>6</th>\n",
       "      <td>7</td>\n",
       "      <td>ALSON LEE</td>\n",
       "      <td>BATTALION CHIEF, (FIRE DEPARTMENT)</td>\n",
       "      <td>92492.01</td>\n",
       "      <td>89062.9</td>\n",
       "      <td>134426.14</td>\n",
       "      <td>NaN</td>\n",
       "      <td>315981.05</td>\n",
       "      <td>315981.05</td>\n",
       "      <td>2011</td>\n",
       "      <td>NaN</td>\n",
       "      <td>San Francisco</td>\n",
       "      <td>NaN</td>\n",
       "    </tr>\n",
       "    <tr>\n",
       "      <th>7</th>\n",
       "      <td>8</td>\n",
       "      <td>DAVID KUSHNER</td>\n",
       "      <td>DEPUTY DIRECTOR OF INVESTMENTS</td>\n",
       "      <td>256576.96</td>\n",
       "      <td>0.0</td>\n",
       "      <td>51322.5</td>\n",
       "      <td>NaN</td>\n",
       "      <td>307899.46</td>\n",
       "      <td>307899.46</td>\n",
       "      <td>2011</td>\n",
       "      <td>NaN</td>\n",
       "      <td>San Francisco</td>\n",
       "      <td>NaN</td>\n",
       "    </tr>\n",
       "    <tr>\n",
       "      <th>8</th>\n",
       "      <td>9</td>\n",
       "      <td>MICHAEL MORRIS</td>\n",
       "      <td>BATTALION CHIEF, (FIRE DEPARTMENT)</td>\n",
       "      <td>176932.64</td>\n",
       "      <td>86362.68</td>\n",
       "      <td>40132.23</td>\n",
       "      <td>NaN</td>\n",
       "      <td>303427.55</td>\n",
       "      <td>303427.55</td>\n",
       "      <td>2011</td>\n",
       "      <td>NaN</td>\n",
       "      <td>San Francisco</td>\n",
       "      <td>NaN</td>\n",
       "    </tr>\n",
       "    <tr>\n",
       "      <th>9</th>\n",
       "      <td>10</td>\n",
       "      <td>JOANNE HAYES-WHITE</td>\n",
       "      <td>CHIEF OF DEPARTMENT, (FIRE DEPARTMENT)</td>\n",
       "      <td>285262.0</td>\n",
       "      <td>0.0</td>\n",
       "      <td>17115.73</td>\n",
       "      <td>NaN</td>\n",
       "      <td>302377.73</td>\n",
       "      <td>302377.73</td>\n",
       "      <td>2011</td>\n",
       "      <td>NaN</td>\n",
       "      <td>San Francisco</td>\n",
       "      <td>NaN</td>\n",
       "    </tr>\n",
       "    <tr>\n",
       "      <th>10</th>\n",
       "      <td>11</td>\n",
       "      <td>ARTHUR KENNEY</td>\n",
       "      <td>ASSISTANT CHIEF OF DEPARTMENT, (FIRE DEPARTMENT)</td>\n",
       "      <td>194999.39</td>\n",
       "      <td>71344.88</td>\n",
       "      <td>33149.9</td>\n",
       "      <td>NaN</td>\n",
       "      <td>299494.17</td>\n",
       "      <td>299494.17</td>\n",
       "      <td>2011</td>\n",
       "      <td>NaN</td>\n",
       "      <td>San Francisco</td>\n",
       "      <td>NaN</td>\n",
       "    </tr>\n",
       "    <tr>\n",
       "      <th>11</th>\n",
       "      <td>12</td>\n",
       "      <td>PATRICIA JACKSON</td>\n",
       "      <td>CAPTAIN III (POLICE DEPARTMENT)</td>\n",
       "      <td>99722.0</td>\n",
       "      <td>87082.62</td>\n",
       "      <td>110804.3</td>\n",
       "      <td>NaN</td>\n",
       "      <td>297608.92</td>\n",
       "      <td>297608.92</td>\n",
       "      <td>2011</td>\n",
       "      <td>NaN</td>\n",
       "      <td>San Francisco</td>\n",
       "      <td>NaN</td>\n",
       "    </tr>\n",
       "    <tr>\n",
       "      <th>12</th>\n",
       "      <td>13</td>\n",
       "      <td>EDWARD HARRINGTON</td>\n",
       "      <td>EXECUTIVE CONTRACT EMPLOYEE</td>\n",
       "      <td>294580.02</td>\n",
       "      <td>0.0</td>\n",
       "      <td>0.0</td>\n",
       "      <td>NaN</td>\n",
       "      <td>294580.02</td>\n",
       "      <td>294580.02</td>\n",
       "      <td>2011</td>\n",
       "      <td>NaN</td>\n",
       "      <td>San Francisco</td>\n",
       "      <td>NaN</td>\n",
       "    </tr>\n",
       "    <tr>\n",
       "      <th>13</th>\n",
       "      <td>14</td>\n",
       "      <td>JOHN MARTIN</td>\n",
       "      <td>DEPARTMENT HEAD V</td>\n",
       "      <td>271329.03</td>\n",
       "      <td>0.0</td>\n",
       "      <td>21342.59</td>\n",
       "      <td>NaN</td>\n",
       "      <td>292671.62</td>\n",
       "      <td>292671.62</td>\n",
       "      <td>2011</td>\n",
       "      <td>NaN</td>\n",
       "      <td>San Francisco</td>\n",
       "      <td>NaN</td>\n",
       "    </tr>\n",
       "    <tr>\n",
       "      <th>14</th>\n",
       "      <td>15</td>\n",
       "      <td>DAVID FRANKLIN</td>\n",
       "      <td>BATTALION CHIEF, (FIRE DEPARTMENT)</td>\n",
       "      <td>174872.64</td>\n",
       "      <td>74050.3</td>\n",
       "      <td>37424.11</td>\n",
       "      <td>NaN</td>\n",
       "      <td>286347.05</td>\n",
       "      <td>286347.05</td>\n",
       "      <td>2011</td>\n",
       "      <td>NaN</td>\n",
       "      <td>San Francisco</td>\n",
       "      <td>NaN</td>\n",
       "    </tr>\n",
       "  </tbody>\n",
       "</table>\n",
       "</div>"
      ],
      "text/plain": [
       "    Id        EmployeeName                                          JobTitle  \\\n",
       "0    1      NATHANIEL FORD    GENERAL MANAGER-METROPOLITAN TRANSIT AUTHORITY   \n",
       "1    2        GARY JIMENEZ                   CAPTAIN III (POLICE DEPARTMENT)   \n",
       "2    3      ALBERT PARDINI                   CAPTAIN III (POLICE DEPARTMENT)   \n",
       "3    4   CHRISTOPHER CHONG              WIRE ROPE CABLE MAINTENANCE MECHANIC   \n",
       "4    5     PATRICK GARDNER      DEPUTY CHIEF OF DEPARTMENT,(FIRE DEPARTMENT)   \n",
       "5    6      DAVID SULLIVAN                         ASSISTANT DEPUTY CHIEF II   \n",
       "6    7           ALSON LEE                BATTALION CHIEF, (FIRE DEPARTMENT)   \n",
       "7    8       DAVID KUSHNER                    DEPUTY DIRECTOR OF INVESTMENTS   \n",
       "8    9      MICHAEL MORRIS                BATTALION CHIEF, (FIRE DEPARTMENT)   \n",
       "9   10  JOANNE HAYES-WHITE            CHIEF OF DEPARTMENT, (FIRE DEPARTMENT)   \n",
       "10  11       ARTHUR KENNEY  ASSISTANT CHIEF OF DEPARTMENT, (FIRE DEPARTMENT)   \n",
       "11  12    PATRICIA JACKSON                   CAPTAIN III (POLICE DEPARTMENT)   \n",
       "12  13   EDWARD HARRINGTON                       EXECUTIVE CONTRACT EMPLOYEE   \n",
       "13  14         JOHN MARTIN                                 DEPARTMENT HEAD V   \n",
       "14  15      DAVID FRANKLIN                BATTALION CHIEF, (FIRE DEPARTMENT)   \n",
       "\n",
       "      BasePay OvertimePay   OtherPay Benefits   TotalPay  TotalPayBenefits  \\\n",
       "0   167411.18         0.0  400184.25      NaN  567595.43         567595.43   \n",
       "1   155966.02   245131.88  137811.38      NaN  538909.28         538909.28   \n",
       "2   212739.13   106088.18    16452.6      NaN  335279.91         335279.91   \n",
       "3     77916.0    56120.71   198306.9      NaN  332343.61         332343.61   \n",
       "4    134401.6      9737.0  182234.59      NaN  326373.19         326373.19   \n",
       "5    118602.0      8601.0  189082.74      NaN  316285.74         316285.74   \n",
       "6    92492.01     89062.9  134426.14      NaN  315981.05         315981.05   \n",
       "7   256576.96         0.0    51322.5      NaN  307899.46         307899.46   \n",
       "8   176932.64    86362.68   40132.23      NaN  303427.55         303427.55   \n",
       "9    285262.0         0.0   17115.73      NaN  302377.73         302377.73   \n",
       "10  194999.39    71344.88    33149.9      NaN  299494.17         299494.17   \n",
       "11    99722.0    87082.62   110804.3      NaN  297608.92         297608.92   \n",
       "12  294580.02         0.0        0.0      NaN  294580.02         294580.02   \n",
       "13  271329.03         0.0   21342.59      NaN  292671.62         292671.62   \n",
       "14  174872.64     74050.3   37424.11      NaN  286347.05         286347.05   \n",
       "\n",
       "    Year  Notes         Agency Status  \n",
       "0   2011    NaN  San Francisco    NaN  \n",
       "1   2011    NaN  San Francisco    NaN  \n",
       "2   2011    NaN  San Francisco    NaN  \n",
       "3   2011    NaN  San Francisco    NaN  \n",
       "4   2011    NaN  San Francisco    NaN  \n",
       "5   2011    NaN  San Francisco    NaN  \n",
       "6   2011    NaN  San Francisco    NaN  \n",
       "7   2011    NaN  San Francisco    NaN  \n",
       "8   2011    NaN  San Francisco    NaN  \n",
       "9   2011    NaN  San Francisco    NaN  \n",
       "10  2011    NaN  San Francisco    NaN  \n",
       "11  2011    NaN  San Francisco    NaN  \n",
       "12  2011    NaN  San Francisco    NaN  \n",
       "13  2011    NaN  San Francisco    NaN  \n",
       "14  2011    NaN  San Francisco    NaN  "
      ]
     },
     "execution_count": 3,
     "metadata": {},
     "output_type": "execute_result"
    }
   ],
   "source": [
    "sal.head(15)"
   ]
  },
  {
   "cell_type": "markdown",
   "metadata": {},
   "source": [
    "## Now see how are the data types of the coulmns"
   ]
  },
  {
   "cell_type": "code",
   "execution_count": 4,
   "metadata": {
    "scrolled": false
   },
   "outputs": [
    {
     "data": {
      "text/plain": [
       "Id                    int64\n",
       "EmployeeName         object\n",
       "JobTitle             object\n",
       "BasePay              object\n",
       "OvertimePay          object\n",
       "OtherPay             object\n",
       "Benefits             object\n",
       "TotalPay            float64\n",
       "TotalPayBenefits    float64\n",
       "Year                  int64\n",
       "Notes               float64\n",
       "Agency               object\n",
       "Status               object\n",
       "dtype: object"
      ]
     },
     "execution_count": 4,
     "metadata": {},
     "output_type": "execute_result"
    }
   ],
   "source": [
    "sal.dtypes"
   ]
  },
  {
   "cell_type": "markdown",
   "metadata": {},
   "source": [
    "## Do you see that Everything is perfect ??\n",
    "* If you agree Print <b><u>YES!!</u></b> three times\n",
    "* Else Print <b><u>NO !!! </u></b> three times then Try to change fix the columns and show them after getting fixed **(TIP : Put the corrected in a new dataframe and reset the index in the new dataframe)**"
   ]
  },
  {
   "cell_type": "code",
   "execution_count": 5,
   "metadata": {},
   "outputs": [
    {
     "name": "stdout",
     "output_type": "stream",
     "text": [
      "NO NO NO \n"
     ]
    }
   ],
   "source": [
    "print(3*'NO ')"
   ]
  },
  {
   "cell_type": "code",
   "execution_count": 21,
   "metadata": {},
   "outputs": [
    {
     "name": "stdout",
     "output_type": "stream",
     "text": [
      "Modified Dataframe 'sal' with Corrected Columns:\n",
      "            Id  EmployeeName  JobTitle    BasePay  OvertimePay   OtherPay  \\\n",
      "0            1           NaN       NaN  167411.18         0.00  400184.25   \n",
      "1            2           NaN       NaN  155966.02    245131.88  137811.38   \n",
      "2            3           NaN       NaN  212739.13    106088.18   16452.60   \n",
      "3            4           NaN       NaN   77916.00     56120.71  198306.90   \n",
      "4            5           NaN       NaN  134401.60      9737.00  182234.59   \n",
      "...        ...           ...       ...        ...          ...        ...   \n",
      "148649  148650           NaN       NaN       0.00         0.00       0.00   \n",
      "148650  148651           NaN       NaN        NaN          NaN        NaN   \n",
      "148651  148652           NaN       NaN        NaN          NaN        NaN   \n",
      "148652  148653           NaN       NaN        NaN          NaN        NaN   \n",
      "148653  148654           NaN       NaN       0.00         0.00    -618.13   \n",
      "\n",
      "        Benefits   TotalPay  TotalPayBenefits  Year  Notes  Agency  Status  \\\n",
      "0            NaN  567595.43         567595.43  2011    NaN     NaN     NaN   \n",
      "1            NaN  538909.28         538909.28  2011    NaN     NaN     NaN   \n",
      "2            NaN  335279.91         335279.91  2011    NaN     NaN     NaN   \n",
      "3            NaN  332343.61         332343.61  2011    NaN     NaN     NaN   \n",
      "4            NaN  326373.19         326373.19  2011    NaN     NaN     NaN   \n",
      "...          ...        ...               ...   ...    ...     ...     ...   \n",
      "148649       0.0       0.00              0.00  2014    NaN     NaN     NaN   \n",
      "148650       NaN       0.00              0.00  2014    NaN     NaN     NaN   \n",
      "148651       NaN       0.00              0.00  2014    NaN     NaN     NaN   \n",
      "148652       NaN       0.00              0.00  2014    NaN     NaN     NaN   \n",
      "148653       0.0    -618.13           -618.13  2014    NaN     NaN     NaN   \n",
      "\n",
      "        TotalPayBenefits_EGP  \n",
      "0               2.686429e+07  \n",
      "1               2.550658e+07  \n",
      "2               1.586880e+07  \n",
      "3               1.572982e+07  \n",
      "4               1.544724e+07  \n",
      "...                      ...  \n",
      "148649          0.000000e+00  \n",
      "148650          0.000000e+00  \n",
      "148651          0.000000e+00  \n",
      "148652          0.000000e+00  \n",
      "148653         -2.925609e+04  \n",
      "\n",
      "[148654 rows x 14 columns]\n"
     ]
    },
    {
     "data": {
      "text/plain": [
       "Id                        int64\n",
       "EmployeeName            float64\n",
       "JobTitle                float64\n",
       "BasePay                 float64\n",
       "OvertimePay             float64\n",
       "OtherPay                float64\n",
       "Benefits                float64\n",
       "TotalPay                float64\n",
       "TotalPayBenefits        float64\n",
       "Year                      int64\n",
       "Notes                   float64\n",
       "Agency                  float64\n",
       "Status                  float64\n",
       "TotalPayBenefits_EGP    float64\n",
       "dtype: object"
      ]
     },
     "execution_count": 21,
     "metadata": {},
     "output_type": "execute_result"
    }
   ],
   "source": [
    "numeric_columns = ['EmployeeName', 'JobTitle', 'BasePay', 'OvertimePay', 'OtherPay', 'Benefits','Agency','Status','Notes']\n",
    "for col in numeric_columns:\n",
    "    sal[col] = pd.to_numeric(sal[col], errors='coerce')  # Convert to float, handle missing values\n",
    "# Reset the index in the dataframe\n",
    "sal.reset_index(drop=True, inplace=True)\n",
    "print(\"Modified Dataframe 'sal' with Corrected Columns:\")\n",
    "print(sal)\n",
    "sal.dtypes"
   ]
  },
  {
   "cell_type": "markdown",
   "metadata": {},
   "source": [
    "## Display all entries for the Columns from BasePay to TotalPayBenefits using iloc[]"
   ]
  },
  {
   "cell_type": "code",
   "execution_count": 7,
   "metadata": {},
   "outputs": [
    {
     "name": "stdout",
     "output_type": "stream",
     "text": [
      "          BasePay  OvertimePay   OtherPay  Benefits   TotalPay  \\\n",
      "0       167411.18         0.00  400184.25       NaN  567595.43   \n",
      "1       155966.02    245131.88  137811.38       NaN  538909.28   \n",
      "2       212739.13    106088.18   16452.60       NaN  335279.91   \n",
      "3        77916.00     56120.71  198306.90       NaN  332343.61   \n",
      "4       134401.60      9737.00  182234.59       NaN  326373.19   \n",
      "...           ...          ...        ...       ...        ...   \n",
      "148649       0.00         0.00       0.00       0.0       0.00   \n",
      "148650        NaN          NaN        NaN       NaN       0.00   \n",
      "148651        NaN          NaN        NaN       NaN       0.00   \n",
      "148652        NaN          NaN        NaN       NaN       0.00   \n",
      "148653       0.00         0.00    -618.13       0.0    -618.13   \n",
      "\n",
      "        TotalPayBenefits  \n",
      "0              567595.43  \n",
      "1              538909.28  \n",
      "2              335279.91  \n",
      "3              332343.61  \n",
      "4              326373.19  \n",
      "...                  ...  \n",
      "148649              0.00  \n",
      "148650              0.00  \n",
      "148651              0.00  \n",
      "148652              0.00  \n",
      "148653           -618.13  \n",
      "\n",
      "[148654 rows x 6 columns]\n"
     ]
    }
   ],
   "source": [
    "\n",
    "columns = sal.iloc[:, 3:9]\n",
    "\n",
    "print(columns)\n"
   ]
  },
  {
   "cell_type": "markdown",
   "metadata": {},
   "source": [
    "## Show The data of the employee with the Least salary\n",
    "* Is his Total pay Logical (Provide your answer in a print statment with the reason and treat this error)"
   ]
  },
  {
   "cell_type": "code",
   "execution_count": 8,
   "metadata": {},
   "outputs": [
    {
     "name": "stdout",
     "output_type": "stream",
     "text": [
      "Employee with the least salary:\n",
      "          Id    EmployeeName      JobTitle  BasePay  OvertimePay  OtherPay  \\\n",
      "72832  72833  Irwin Sidharta  Junior Clerk  -166.01       249.02       0.0   \n",
      "\n",
      "       Benefits  TotalPay  TotalPayBenefits  Year  Notes         Agency Status  \n",
      "72832      6.56     83.01             89.57  2012    NaN  San Francisco    NaN  \n",
      "The total pay is not logical.\n"
     ]
    }
   ],
   "source": [
    "# Find the employee with the least salary\n",
    "employee_least_salary = sal[sal['BasePay'] == sal['BasePay'].min()]\n",
    "\n",
    "# Display the data of the employee with the least salary\n",
    "print(\"Employee with the least salary:\")\n",
    "print(employee_least_salary)\n",
    "\n",
    "# Check if the total pay is logical\n",
    "logical_total_pay = employee_least_salary['TotalPay'].iloc[0] == (employee_least_salary['BasePay'].iloc[0] +\n",
    "                                                                 employee_least_salary['OvertimePay'].iloc[0] +\n",
    "                                                                 employee_least_salary['OtherPay'].iloc[0] +\n",
    "                                                                 employee_least_salary['Benefits'].iloc[0])\n",
    "if logical_total_pay:\n",
    "    print(\"The total pay is logical.\")\n",
    "else:\n",
    "    print(\"The total pay is not logical.\")\n"
   ]
  },
  {
   "cell_type": "markdown",
   "metadata": {},
   "source": [
    "## What is the most common JobTitle among this dataset"
   ]
  },
  {
   "cell_type": "code",
   "execution_count": 9,
   "metadata": {},
   "outputs": [
    {
     "name": "stdout",
     "output_type": "stream",
     "text": [
      "The most common JobTitle among this dataset is: Transit Operator\n"
     ]
    }
   ],
   "source": [
    "# Find the most common JobTitle\n",
    "most_common_job_title = sal['JobTitle'].value_counts().idxmax()\n",
    "\n",
    "print(\"The most common JobTitle among this dataset is:\", most_common_job_title)\n"
   ]
  },
  {
   "cell_type": "markdown",
   "metadata": {},
   "source": [
    "## Display the top 5 highest/lowest Avreage Total Pay Benefits"
   ]
  },
  {
   "cell_type": "code",
   "execution_count": 10,
   "metadata": {},
   "outputs": [
    {
     "name": "stdout",
     "output_type": "stream",
     "text": [
      "Top 5 highest Average Total Pay Benefits:\n",
      "JobTitle\n",
      "Chief Investment Officer                          436224.360000\n",
      "Chief of Police                                   411732.266667\n",
      "Chief, Fire Department                            408865.326667\n",
      "GENERAL MANAGER-METROPOLITAN TRANSIT AUTHORITY    399211.275000\n",
      "Gen Mgr, Public Trnsp Dept                        380696.440000\n",
      "Name: TotalPayBenefits, dtype: float64\n",
      "\n",
      "Top 5 lowest Average Total Pay Benefits:\n",
      "JobTitle\n",
      "Not provided                                 0.000000\n",
      "PUBLIC SAFETY COMMUNICATIONS TECHNICIAN    149.510000\n",
      "BOARD/COMMISSION MEMBER, GROUP II          296.511628\n",
      "BdComm Mbr, Grp2,M=$25/Mtg                 475.047742\n",
      "BOARD/COMMISSION MEMBER, GROUP III         638.787879\n",
      "Name: TotalPayBenefits, dtype: float64\n"
     ]
    }
   ],
   "source": [
    "# Display the top 5 highest Average Total Pay Benefits\n",
    "top_5_highest_avg = sal.groupby('JobTitle')['TotalPayBenefits'].mean().nlargest(5)\n",
    "print(\"Top 5 highest Average Total Pay Benefits:\")\n",
    "print(top_5_highest_avg)\n",
    "\n",
    "# Display the top 5 lowest Average Total Pay Benefits\n",
    "top_5_lowest_avg = sal.groupby('JobTitle')['TotalPayBenefits'].mean().nsmallest(5)\n",
    "print(\"\\nTop 5 lowest Average Total Pay Benefits:\")\n",
    "print(top_5_lowest_avg)\n"
   ]
  },
  {
   "cell_type": "markdown",
   "metadata": {},
   "source": [
    "## How many people are working for the police? (This is pretty tricky)\n",
    "**Assign the word <b><u>Police</b></u> to the Notes column**"
   ]
  },
  {
   "cell_type": "code",
   "execution_count": 11,
   "metadata": {},
   "outputs": [
    {
     "name": "stdout",
     "output_type": "stream",
     "text": [
      "Number of people working for the police: 18042\n"
     ]
    }
   ],
   "source": [
    "# Create a list of job titles related to the police\n",
    "police_job_titles = ['POLICE', 'SHERIFF', 'OFFICER', 'LIEUTENANT', 'SERGEANT', 'CAPTAIN']\n",
    "\n",
    "# Check if the JobTitle contains any police-related keywords and update the Notes column accordingly\n",
    "sal['Notes'] = sal.apply(lambda row: 'Police' if any(keyword in row['JobTitle'].upper() for keyword in police_job_titles) else row['Notes'], axis=1)\n",
    "\n",
    "# Count the number of people working for the police\n",
    "people_working_for_police = sal[sal['Notes'] == 'Police'].shape[0]\n",
    "\n",
    "print(\"Number of people working for the police:\", people_working_for_police)\n"
   ]
  },
  {
   "cell_type": "code",
   "execution_count": 12,
   "metadata": {},
   "outputs": [
    {
     "data": {
      "text/plain": [
       "(148654, 13)"
      ]
     },
     "execution_count": 12,
     "metadata": {},
     "output_type": "execute_result"
    }
   ],
   "source": [
    "sal.shape"
   ]
  },
  {
   "cell_type": "markdown",
   "metadata": {},
   "source": [
    "## Check if there is any Duplicates in names\n",
    "* show the most common name and display his rows\n",
    "* show the dataframe of non duplicated People and print the number of its rows"
   ]
  },
  {
   "cell_type": "code",
   "execution_count": 13,
   "metadata": {},
   "outputs": [
    {
     "name": "stdout",
     "output_type": "stream",
     "text": [
      "Duplicates in names:\n",
      "43         MICHAEL THOMPSON\n",
      "359             JOHN MURPHY\n",
      "435       WILLIAM MCFARLAND\n",
      "847             SANDRA TONG\n",
      "864             WILLIAM LEE\n",
      "                ...        \n",
      "148648          Leon Walker\n",
      "148649        Roy I Tillery\n",
      "148650         Not provided\n",
      "148651         Not provided\n",
      "148652         Not provided\n",
      "Name: EmployeeName, Length: 37843, dtype: object\n",
      "\n",
      "Rows of the most common name: Kevin Lee\n",
      "            Id EmployeeName                        JobTitle    BasePay  \\\n",
      "39715    39716    Kevin Lee                Police Officer 3  115866.90   \n",
      "40570    40571    Kevin Lee                Police Officer 3  117171.41   \n",
      "42510    42511    Kevin Lee  Electrical Transit System Mech   79220.54   \n",
      "49270    49271    Kevin Lee          Deputy Court Clerk III   84512.32   \n",
      "49439    49440    Kevin Lee          Deputy Court Clerk III   84512.34   \n",
      "50123    50124    Kevin Lee               Personnel Analyst   83382.00   \n",
      "52233    52234    Kevin Lee  Senior Parking Control Officer   66774.03   \n",
      "53931    53932    Kevin Lee                Transit Operator   57397.32   \n",
      "55119    55120    Kevin Lee              IS Administrator 2   68940.44   \n",
      "112385  112386    Kevin Lee                      Sergeant 3  137982.14   \n",
      "123141  123142    Kevin Lee  IT Operations Support Admin IV   91606.03   \n",
      "124165  124166    Kevin Lee               Personnel Analyst   88353.01   \n",
      "124658  124659    Kevin Lee                Transit Operator   67230.30   \n",
      "\n",
      "        OvertimePay  OtherPay  Benefits   TotalPay  TotalPayBenefits  Year  \\\n",
      "39715      23523.30   9313.54  34906.20  148703.74         183609.94  2012   \n",
      "40570      19606.88   4244.90  34610.10  141023.19         175633.29  2012   \n",
      "42510      40247.39   3353.49  38781.04  122821.42         161602.46  2012   \n",
      "49270          0.00   1469.99  36080.30   85982.31         122062.61  2012   \n",
      "49439          0.00    975.44  35902.02   85487.78         121389.80  2012   \n",
      "50123          0.00      0.00  35210.59   83382.00         118592.59  2012   \n",
      "52233       9599.08   1092.62  31902.38   77465.73         109368.11  2012   \n",
      "53931       9989.83   1800.48  34577.54   69187.63         103765.17  2012   \n",
      "55119          0.00      0.00  30650.48   68940.44          99590.92  2012   \n",
      "112385     18537.19  16039.62  43039.12  172558.95         215598.07  2014   \n",
      "123141         0.00   1013.00  34109.61   92619.03         126728.64  2014   \n",
      "124165         0.00      0.00  33172.33   88353.01         121525.34  2014   \n",
      "124658     10961.25   4050.85  36777.83   82242.40         119020.23  2014   \n",
      "\n",
      "         Notes         Agency Status  \n",
      "39715   Police  San Francisco    NaN  \n",
      "40570   Police  San Francisco    NaN  \n",
      "42510      NaN  San Francisco    NaN  \n",
      "49270      NaN  San Francisco    NaN  \n",
      "49439      NaN  San Francisco    NaN  \n",
      "50123      NaN  San Francisco    NaN  \n",
      "52233   Police  San Francisco    NaN  \n",
      "53931      NaN  San Francisco    NaN  \n",
      "55119      NaN  San Francisco    NaN  \n",
      "112385  Police  San Francisco     FT  \n",
      "123141     NaN  San Francisco     FT  \n",
      "124165     NaN  San Francisco     FT  \n",
      "124658     NaN  San Francisco     FT  \n",
      "\n",
      "Number of rows in the DataFrame of non-duplicated people: 76537\n"
     ]
    }
   ],
   "source": [
    "# Check for duplicates in names\n",
    "duplicate_names = sal['EmployeeName'][sal['EmployeeName'].duplicated()]\n",
    "\n",
    "if duplicate_names.empty:\n",
    "    print(\"There are no duplicates in names.\")\n",
    "else:\n",
    "    print(\"Duplicates in names:\")\n",
    "    print(duplicate_names)\n",
    "\n",
    "# Find the most common name\n",
    "most_common_name = sal['EmployeeName'].mode()[0]\n",
    "\n",
    "# Display rows of the most common name\n",
    "print(\"\\nRows of the most common name:\", most_common_name)\n",
    "print(sal[sal['EmployeeName'] == most_common_name])\n",
    "\n",
    "# DataFrame of non-duplicated people\n",
    "non_duplicated_people_df = sal.drop_duplicates(subset='EmployeeName', keep=False)\n",
    "\n",
    "# Print the number of rows in the DataFrame of non-duplicated people\n",
    "print(\"\\nNumber of rows in the DataFrame of non-duplicated people:\", len(non_duplicated_people_df))\n"
   ]
  },
  {
   "cell_type": "markdown",
   "metadata": {},
   "source": [
    "## Show me How much is the Total Pay Benefits in Egyptian pound"
   ]
  },
  {
   "cell_type": "code",
   "execution_count": 16,
   "metadata": {},
   "outputs": [
    {
     "name": "stdout",
     "output_type": "stream",
     "text": [
      "             EmployeeName  TotalPayBenefits  TotalPayBenefits_EGP\n",
      "0          NATHANIEL FORD         567595.43          2.686429e+07\n",
      "1            GARY JIMENEZ         538909.28          2.550658e+07\n",
      "2          ALBERT PARDINI         335279.91          1.586880e+07\n",
      "3       CHRISTOPHER CHONG         332343.61          1.572982e+07\n",
      "4         PATRICK GARDNER         326373.19          1.544724e+07\n",
      "...                   ...               ...                   ...\n",
      "148649      Roy I Tillery              0.00          0.000000e+00\n",
      "148650       Not provided              0.00          0.000000e+00\n",
      "148651       Not provided              0.00          0.000000e+00\n",
      "148652       Not provided              0.00          0.000000e+00\n",
      "148653          Joe Lopez           -618.13         -2.925609e+04\n",
      "\n",
      "[148654 rows x 3 columns]\n"
     ]
    }
   ],
   "source": [
    "# Define the exchange rate\n",
    "exchange_rate_usd_to_egp = 47.33\n",
    "\n",
    "# Convert 'TotalPayBenefits' column to Egyptian pounds\n",
    "sal['TotalPayBenefits_EGP'] = sal['TotalPayBenefits'] * exchange_rate_usd_to_egp\n",
    "\n",
    "# Display the DataFrame with the new column\n",
    "print(sal[['EmployeeName', 'TotalPayBenefits', 'TotalPayBenefits_EGP']])\n"
   ]
  },
  {
   "cell_type": "markdown",
   "metadata": {
    "id": "kQYL0qTZ_j4F"
   },
   "source": [
    "# Great Job!"
   ]
  },
  {
   "cell_type": "markdown",
   "metadata": {},
   "source": [
    "# <img src=\"https://lh3.googleusercontent.com/u/1/drive-viewer/AFDK6gPCq8mIoFZZvP6W7WRpcDcnLBjoAL0u4NGB1nHCxyMsY7HqgeW3u-_bYATP03ArkFITJ9od5keJm9ate7DmLhd_mu9J=w1366-h638\" alt=\"Alternative text\" width=450 height=450 />"
   ]
  },
  {
   "cell_type": "code",
   "execution_count": null,
   "metadata": {},
   "outputs": [],
   "source": []
  },
  {
   "cell_type": "code",
   "execution_count": null,
   "metadata": {},
   "outputs": [],
   "source": []
  },
  {
   "cell_type": "code",
   "execution_count": null,
   "metadata": {},
   "outputs": [],
   "source": []
  }
 ],
 "metadata": {
  "colab": {
   "collapsed_sections": [],
   "name": "Fouad Amr SF Salaries Exercise.ipynb",
   "provenance": [
    {
     "file_id": "1EA89AwJ0qg2rgRCUgelGSrl14s7VAqA6",
     "timestamp": 1659711070912
    }
   ]
  },
  "kernelspec": {
   "display_name": "Python 3 (ipykernel)",
   "language": "python",
   "name": "python3"
  },
  "language_info": {
   "codemirror_mode": {
    "name": "ipython",
    "version": 3
   },
   "file_extension": ".py",
   "mimetype": "text/x-python",
   "name": "python",
   "nbconvert_exporter": "python",
   "pygments_lexer": "ipython3",
   "version": "3.11.5"
  },
  "vscode": {
   "interpreter": {
    "hash": "213524bb45a1aeaf737b1d8c77d7b8db5d425938d9dffc5f4bc6fe6dd3324700"
   }
  }
 },
 "nbformat": 4,
 "nbformat_minor": 1
}
